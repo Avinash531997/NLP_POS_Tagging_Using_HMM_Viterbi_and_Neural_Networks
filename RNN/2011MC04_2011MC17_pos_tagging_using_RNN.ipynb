{
 "cells": [
  {
   "cell_type": "markdown",
   "metadata": {},
   "source": [
    "### Importing libraries"
   ]
  },
  {
   "cell_type": "code",
   "execution_count": 1,
   "metadata": {},
   "outputs": [
    {
     "name": "stderr",
     "output_type": "stream",
     "text": [
      "\n",
      "Bad key \"text.kerning_factor\" on line 4 in\n",
      "C:\\Users\\VISHAL SINGH\\Anaconda3\\lib\\site-packages\\matplotlib\\mpl-data\\stylelib\\_classic_test_patch.mplstyle.\n",
      "You probably need to get an updated matplotlibrc file from\n",
      "https://github.com/matplotlib/matplotlib/blob/v3.1.3/matplotlibrc.template\n",
      "or from the matplotlib source distribution\n",
      "Using TensorFlow backend.\n"
     ]
    }
   ],
   "source": [
    "import numpy as np\n",
    "import pandas as pd\n",
    "import random\n",
    "import seaborn as sns\n",
    "import matplotlib.pyplot as plt\n",
    "\n",
    "from sklearn.metrics import confusion_matrix\n",
    "from sklearn.model_selection import train_test_split\n",
    "from sklearn.metrics import classification_report\n",
    "from gensim.models import KeyedVectors\n",
    "\n",
    "\n",
    "from tensorflow.keras.models import Sequential\n",
    "from tensorflow.keras.layers import Embedding\n",
    "from tensorflow.keras.layers import Dense, Input,Dropout\n",
    "from tensorflow.keras.layers import TimeDistributed\n",
    "from tensorflow.keras.layers import SimpleRNN, RNN\n",
    "from tensorflow.keras.models import Model\n",
    "from tensorflow.keras.preprocessing.text import Tokenizer\n",
    "from keras.preprocessing.sequence import pad_sequences\n",
    "from keras.utils.np_utils import to_categorical\n",
    "\n",
    "import warnings\n",
    "warnings.filterwarnings('ignore')"
   ]
  },
  {
   "cell_type": "code",
   "execution_count": 2,
   "metadata": {},
   "outputs": [],
   "source": [
    "random.seed(1)"
   ]
  },
  {
   "cell_type": "markdown",
   "metadata": {},
   "source": [
    "## Loading the dataset"
   ]
  },
  {
   "cell_type": "code",
   "execution_count": 3,
   "metadata": {},
   "outputs": [
    {
     "data": {
      "text/html": [
       "<div>\n",
       "<style scoped>\n",
       "    .dataframe tbody tr th:only-of-type {\n",
       "        vertical-align: middle;\n",
       "    }\n",
       "\n",
       "    .dataframe tbody tr th {\n",
       "        vertical-align: top;\n",
       "    }\n",
       "\n",
       "    .dataframe thead th {\n",
       "        text-align: right;\n",
       "    }\n",
       "</style>\n",
       "<table border=\"1\" class=\"dataframe\">\n",
       "  <thead>\n",
       "    <tr style=\"text-align: right;\">\n",
       "      <th></th>\n",
       "      <th>tokenized_sentences</th>\n",
       "      <th>tags</th>\n",
       "    </tr>\n",
       "  </thead>\n",
       "  <tbody>\n",
       "    <tr>\n",
       "      <th>0</th>\n",
       "      <td>['Pierre', 'Vinken', ',', '61', 'years', 'old'...</td>\n",
       "      <td>['NNP', 'NNP', ',', 'CD', 'NNS', 'JJ', ',', 'M...</td>\n",
       "    </tr>\n",
       "    <tr>\n",
       "      <th>1</th>\n",
       "      <td>['Mr.', 'Vinken', 'is', 'chairman', 'of', 'Els...</td>\n",
       "      <td>['NNP', 'NNP', 'VBZ', 'NN', 'IN', 'NNP', 'NNP'...</td>\n",
       "    </tr>\n",
       "    <tr>\n",
       "      <th>2</th>\n",
       "      <td>['Rudolph', 'Agnew', ',', '55', 'years', 'old'...</td>\n",
       "      <td>['NNP', 'NNP', ',', 'CD', 'NNS', 'JJ', 'CC', '...</td>\n",
       "    </tr>\n",
       "    <tr>\n",
       "      <th>3</th>\n",
       "      <td>['A', 'form', 'of', 'asbestos', 'once', 'used'...</td>\n",
       "      <td>['DT', 'NN', 'IN', 'NN', 'RB', 'VBN', '-NONE-'...</td>\n",
       "    </tr>\n",
       "    <tr>\n",
       "      <th>4</th>\n",
       "      <td>['The', 'asbestos', 'fiber', ',', 'crocidolite...</td>\n",
       "      <td>['DT', 'NN', 'NN', ',', 'NN', ',', 'VBZ', 'RB'...</td>\n",
       "    </tr>\n",
       "  </tbody>\n",
       "</table>\n",
       "</div>"
      ],
      "text/plain": [
       "                                 tokenized_sentences  \\\n",
       "0  ['Pierre', 'Vinken', ',', '61', 'years', 'old'...   \n",
       "1  ['Mr.', 'Vinken', 'is', 'chairman', 'of', 'Els...   \n",
       "2  ['Rudolph', 'Agnew', ',', '55', 'years', 'old'...   \n",
       "3  ['A', 'form', 'of', 'asbestos', 'once', 'used'...   \n",
       "4  ['The', 'asbestos', 'fiber', ',', 'crocidolite...   \n",
       "\n",
       "                                                tags  \n",
       "0  ['NNP', 'NNP', ',', 'CD', 'NNS', 'JJ', ',', 'M...  \n",
       "1  ['NNP', 'NNP', 'VBZ', 'NN', 'IN', 'NNP', 'NNP'...  \n",
       "2  ['NNP', 'NNP', ',', 'CD', 'NNS', 'JJ', 'CC', '...  \n",
       "3  ['DT', 'NN', 'IN', 'NN', 'RB', 'VBN', '-NONE-'...  \n",
       "4  ['DT', 'NN', 'NN', ',', 'NN', ',', 'VBZ', 'RB'...  "
      ]
     },
     "execution_count": 3,
     "metadata": {},
     "output_type": "execute_result"
    }
   ],
   "source": [
    "df=pd.read_csv(\"WSJ_treebank_corpus.csv\")\n",
    "df.head()"
   ]
  },
  {
   "cell_type": "markdown",
   "metadata": {},
   "source": [
    "### Preprocessing the data set\n"
   ]
  },
  {
   "cell_type": "code",
   "execution_count": 4,
   "metadata": {},
   "outputs": [
    {
     "name": "stdout",
     "output_type": "stream",
     "text": [
      "Number of words 1st sentence : 18\n"
     ]
    }
   ],
   "source": [
    "#Converting strings to list for each sentence in the data set\n",
    "tokenized_sentences=df['tokenized_sentences']\n",
    "X=np.array([ eval(x) for x in tokenized_sentences],dtype=object)\n",
    "print(\"Number of words 1st sentence : \"+str(len(X[0])))"
   ]
  },
  {
   "cell_type": "code",
   "execution_count": 5,
   "metadata": {},
   "outputs": [
    {
     "name": "stdout",
     "output_type": "stream",
     "text": [
      "Number of tags in 1st sentence : 18\n"
     ]
    }
   ],
   "source": [
    "tags=df['tags']\n",
    "Y=np.array([ eval(x) for x in tags],dtype=object)\n",
    "print(\"Number of tags in 1st sentence : \"+str(len(Y[0])))\n"
   ]
  },
  {
   "cell_type": "markdown",
   "metadata": {},
   "source": [
    "##### The number of tags for a particular sentence = number of words for that sentence"
   ]
  },
  {
   "cell_type": "code",
   "execution_count": 6,
   "metadata": {},
   "outputs": [
    {
     "data": {
      "text/plain": [
       "True"
      ]
     },
     "execution_count": 6,
     "metadata": {},
     "output_type": "execute_result"
    }
   ],
   "source": [
    "#comparing the length of every sentence and its corresponding set of tags\n",
    "all([len(X[i])==len(Y[i]) for i in range(len(X))])"
   ]
  },
  {
   "cell_type": "markdown",
   "metadata": {},
   "source": [
    "#### Vectorizing the inputs and the tags"
   ]
  },
  {
   "cell_type": "code",
   "execution_count": 7,
   "metadata": {},
   "outputs": [
    {
     "data": {
      "text/plain": [
       "[5601,\n",
       " 3746,\n",
       " 1,\n",
       " 2024,\n",
       " 86,\n",
       " 331,\n",
       " 1,\n",
       " 46,\n",
       " 2405,\n",
       " 2,\n",
       " 131,\n",
       " 27,\n",
       " 6,\n",
       " 2025,\n",
       " 332,\n",
       " 459,\n",
       " 2026,\n",
       " 3]"
      ]
     },
     "execution_count": 7,
     "metadata": {},
     "output_type": "execute_result"
    }
   ],
   "source": [
    "#initializing the tokenizer\n",
    "word_tokenizer = Tokenizer()   \n",
    "word_tokenizer.fit_on_texts(X) \n",
    "#tokenizing input based on index of every word in vocab set\n",
    "X_encoded = word_tokenizer.texts_to_sequences(X) \n",
    "X_encoded[0]"
   ]
  },
  {
   "cell_type": "markdown",
   "metadata": {},
   "source": [
    "### Tokenizing the tags"
   ]
  },
  {
   "cell_type": "code",
   "execution_count": 8,
   "metadata": {},
   "outputs": [
    {
     "data": {
      "text/plain": [
       "[3, 3, 8, 10, 6, 7, 8, 21, 13, 4, 1, 2, 4, 7, 1, 3, 10, 9]"
      ]
     },
     "execution_count": 8,
     "metadata": {},
     "output_type": "execute_result"
    }
   ],
   "source": [
    "tags_tokenizer = Tokenizer()\n",
    "tags_tokenizer.fit_on_texts(Y)\n",
    "Y_encoded = tags_tokenizer.texts_to_sequences(Y) # tokenizing each tag based on index in tag vocab.\n",
    "Y_encoded[0]"
   ]
  },
  {
   "cell_type": "markdown",
   "metadata": {},
   "source": [
    "### Total Number of tags present in dataset"
   ]
  },
  {
   "cell_type": "code",
   "execution_count": 9,
   "metadata": {},
   "outputs": [
    {
     "data": {
      "text/plain": [
       "46"
      ]
     },
     "execution_count": 9,
     "metadata": {},
     "output_type": "execute_result"
    }
   ],
   "source": [
    "NUM_TAGS=len(tags_tokenizer.word_counts)\n",
    "NUM_TAGS"
   ]
  },
  {
   "cell_type": "code",
   "execution_count": 10,
   "metadata": {},
   "outputs": [
    {
     "data": {
      "text/plain": [
       "11387"
      ]
     },
     "execution_count": 10,
     "metadata": {},
     "output_type": "execute_result"
    }
   ],
   "source": [
    "#Total Number of words present in dataset\n",
    "len(word_tokenizer.word_counts)"
   ]
  },
  {
   "cell_type": "code",
   "execution_count": 11,
   "metadata": {},
   "outputs": [
    {
     "data": {
      "text/plain": [
       "True"
      ]
     },
     "execution_count": 11,
     "metadata": {},
     "output_type": "execute_result"
    }
   ],
   "source": [
    "#Checking if length of each encoded vector and it encoded tag vector are same or not\n",
    "all_of_length = all([len(X_encoded[i])==len(Y[i]) for i in range(len(X_encoded))])\n",
    "all_of_length"
   ]
  },
  {
   "cell_type": "markdown",
   "metadata": {},
   "source": [
    "### Checking the length of different sequences in the dataset"
   ]
  },
  {
   "cell_type": "code",
   "execution_count": 12,
   "metadata": {},
   "outputs": [
    {
     "data": {
      "image/png": "[encoded data removed]",
      "text/plain": [
       "<Figure size 1008x576 with 1 Axes>"
      ]
     },
     "metadata": {
      "needs_background": "light"
     },
     "output_type": "display_data"
    }
   ],
   "source": [
    "fig = plt.figure(figsize = (14, 8)) \n",
    "lengths_enc = [len(seq) for seq in X_encoded]\n",
    "sns.histplot(lengths_enc,color = 'red')\n",
    "plt.show()"
   ]
  },
  {
   "cell_type": "markdown",
   "metadata": {},
   "source": [
    "Since the sentence vectors are of variable length we need to add padding and make all of same length "
   ]
  },
  {
   "cell_type": "code",
   "execution_count": 13,
   "metadata": {},
   "outputs": [
    {
     "name": "stdout",
     "output_type": "stream",
     "text": [
      "The maximum length vector among the all the encoded vector is 271\n"
     ]
    }
   ],
   "source": [
    "max_len_enc=max(lengths_enc)\n",
    "print(\"The maximum length vector among the all the encoded vector is {}\".format(max_len_enc))"
   ]
  },
  {
   "cell_type": "code",
   "execution_count": 14,
   "metadata": {},
   "outputs": [
    {
     "data": {
      "text/plain": [
       "array([   0,    0,    0,    0,    0,    0,    0,    0,    0,    0,    0,\n",
       "          0,    0,    0,    0,    0,    0,    0,    0,    0,    0,    0,\n",
       "          0,    0,    0,    0,    0,    0,    0,    0,    0,    0,    0,\n",
       "          0,    0,    0,    0,    0,    0,    0,    0,    0,    0,    0,\n",
       "          0,    0,    0,    0,    0,    0,    0,    0,    0,    0,    0,\n",
       "          0,    0,    0,    0,    0,    0,    0,    0,    0,    0,    0,\n",
       "          0,    0,    0,    0,    0,    0,    0,    0,    0,    0,    0,\n",
       "          0,    0,    0,    0,    0, 5601, 3746,    1, 2024,   86,  331,\n",
       "          1,   46, 2405,    2,  131,   27,    6, 2025,  332,  459, 2026,\n",
       "          3])"
      ]
     },
     "execution_count": 14,
     "metadata": {},
     "output_type": "execute_result"
    }
   ],
   "source": [
    "#Setting the MAX_VEC_LENGTH to be 100 such that vectors(sequences) greater than 100 in length\n",
    "#will be truncated and for smaller vector zeroes will padded from the left\n",
    "MAX_VEC_LENGTH = 100\n",
    "\n",
    "X_padded = pad_sequences(X_encoded, maxlen=MAX_VEC_LENGTH, padding=\"pre\", truncating=\"post\")\n",
    "X_padded[0]"
   ]
  },
  {
   "cell_type": "code",
   "execution_count": 15,
   "metadata": {},
   "outputs": [
    {
     "data": {
      "text/plain": [
       "array([ 0,  0,  0,  0,  0,  0,  0,  0,  0,  0,  0,  0,  0,  0,  0,  0,  0,\n",
       "        0,  0,  0,  0,  0,  0,  0,  0,  0,  0,  0,  0,  0,  0,  0,  0,  0,\n",
       "        0,  0,  0,  0,  0,  0,  0,  0,  0,  0,  0,  0,  0,  0,  0,  0,  0,\n",
       "        0,  0,  0,  0,  0,  0,  0,  0,  0,  0,  0,  0,  0,  0,  0,  0,  0,\n",
       "        0,  0,  0,  0,  0,  0,  0,  0,  0,  0,  0,  0,  0,  0,  3,  3,  8,\n",
       "       10,  6,  7,  8, 21, 13,  4,  1,  2,  4,  7,  1,  3, 10,  9])"
      ]
     },
     "execution_count": 15,
     "metadata": {},
     "output_type": "execute_result"
    }
   ],
   "source": [
    "Y_padded = pad_sequences(Y_encoded, maxlen=MAX_VEC_LENGTH, padding=\"pre\", truncating=\"post\")\n",
    "Y_padded[0]"
   ]
  },
  {
   "cell_type": "markdown",
   "metadata": {},
   "source": [
    "### Re-Assigning to X and Y for ease of use"
   ]
  },
  {
   "cell_type": "code",
   "execution_count": 16,
   "metadata": {},
   "outputs": [],
   "source": [
    "X, Y = X_padded, Y_padded"
   ]
  },
  {
   "cell_type": "markdown",
   "metadata": {},
   "source": [
    "### Word Embedding"
   ]
  },
  {
   "cell_type": "code",
   "execution_count": 17,
   "metadata": {},
   "outputs": [],
   "source": [
    "# loading word2vec with vocab_limit of 20,000 for faster loading \n",
    "word2vec = KeyedVectors.load_word2vec_format('GoogleNews-vectors-negative300.bin.gz',limit=20000, binary=True)"
   ]
  },
  {
   "cell_type": "code",
   "execution_count": 18,
   "metadata": {},
   "outputs": [],
   "source": [
    "EMBED_DIM  = 300  #Representing each word as a 300 dimensional vector in word2vec\n",
    "VOCAB_SIZE = len(word_tokenizer.word_index) + 1\n",
    "\n",
    "# Empty embedding matrix\n",
    "embedding_weights = np.zeros((VOCAB_SIZE, EMBED_DIM))\n",
    "\n",
    "# Word to index dictionary mapping\n",
    "word2id = word_tokenizer.word_index\n",
    "\n",
    "# copying vectors from word2vec model to the words present in corpus\n",
    "for word, index in word2id.items():\n",
    "    try:\n",
    "        embedding_weights[index, :] = word2vec[word]\n",
    "    except KeyError:\n",
    "        pass"
   ]
  },
  {
   "cell_type": "code",
   "execution_count": 19,
   "metadata": {},
   "outputs": [
    {
     "name": "stdout",
     "output_type": "stream",
     "text": [
      "Shape Embeddings is : (11388, 300)\n"
     ]
    }
   ],
   "source": [
    "print(\"Shape Embeddings is : {}\".format(embedding_weights.shape))"
   ]
  },
  {
   "cell_type": "markdown",
   "metadata": {},
   "source": [
    "### One hot Encoding for the POS tags"
   ]
  },
  {
   "cell_type": "code",
   "execution_count": 20,
   "metadata": {},
   "outputs": [
    {
     "name": "stdout",
     "output_type": "stream",
     "text": [
      "(3914, 100, 47)\n"
     ]
    }
   ],
   "source": [
    "Y = to_categorical(Y)\n",
    "print(Y.shape)"
   ]
  },
  {
   "cell_type": "markdown",
   "metadata": {},
   "source": [
    "### RNN with word (embedding weights)"
   ]
  },
  {
   "cell_type": "code",
   "execution_count": 21,
   "metadata": {},
   "outputs": [],
   "source": [
    "def evaluate_model(X_train,Y_train,X_test,Y_test):\n",
    "    Validation_Size=0.1 #Validation Split Size\n",
    "    #Train - Validation Set Split\n",
    "    X_train, X_validation, Y_train, Y_validation = train_test_split(X_train, Y_train, test_size=Validation_Size, random_state=1)\n",
    "    # total number of tags\n",
    "    NUM_CLASSES = Y.shape[2]\n",
    "    rnn_model = Sequential()\n",
    "\n",
    "    # Embedding layer - using the word2vec weights having dimension Vocab_size x Embed_dim\n",
    "    rnn_model.add(Embedding(input_dim     =  VOCAB_SIZE,         \n",
    "                            output_dim    =  EMBED_DIM,          \n",
    "                            input_length  =  MAX_VEC_LENGTH,         \n",
    "                            weights       = [embedding_weights],      \n",
    "                            trainable     =  True                     # True - update the embeddings while training\n",
    "    ))\n",
    "\n",
    "    # Adding the RNN Layer containg 128 cells\n",
    "    rnn_model.add(SimpleRNN(128, \n",
    "                  return_sequences=True  # True to return whole sequence output \n",
    "    ))\n",
    "    rnn_model.add(Dropout(0.2)) # Adding dropout to avoid overfitting\n",
    "\n",
    "    # Adding TimeDistributed layer - Softmax output based on number of classes or tags\n",
    "    rnn_model.add(TimeDistributed(Dense(NUM_CLASSES, activation='softmax')))\n",
    "\n",
    "    #Compiling model\n",
    "    rnn_model.compile(loss      =  'categorical_crossentropy',\n",
    "                      optimizer =  'adam',\n",
    "                      metrics   =  ['acc'])\n",
    "    \n",
    "    print(\"Training - Validation(development) - Test set details :\")\n",
    "    \n",
    "    # printing the number of samples in each set\n",
    "    print(\"Training Set\")\n",
    "    print('Input Shape is : {}'.format(X_train.shape))\n",
    "    print('Output Shape is : {}'.format(Y_train.shape))\n",
    "    print(\"*\"*70)\n",
    "    \n",
    "    print(\"Validation(Development) Set\")\n",
    "    print('Input Shape is : {}'.format(X_validation.shape))\n",
    "    print('Output Shape is : {}'.format(Y_validation.shape))\n",
    "    print(\"*\"*70)\n",
    "    \n",
    "    print(\"Testing Set\")\n",
    "    print('Input Shape is : {}'.format(X_test.shape))\n",
    "    print('Output Shape is : {}'.format(Y_test.shape))\n",
    "    \n",
    "    # model summary\n",
    "    rnn_model.summary()\n",
    "    #Hyper-parameters for the model\n",
    "    epochs=15\n",
    "    batch_size=64\n",
    "    \n",
    "\n",
    "    #Fitting Model\n",
    "    rnn_training = rnn_model.fit(X_train, Y_train, batch_size=batch_size, epochs=epochs, validation_data=(X_validation, Y_validation))\n",
    "    #Model Evaluation\n",
    "    loss, accuracy = rnn_model.evaluate(X_train, Y_train, verbose = 1)\n",
    "    print(\"Loss: {0},\\nTraining Accuracy: {1}\".format(loss, accuracy))\n",
    "    print(\" \"*60)\n",
    "    loss, accuracy = rnn_model.evaluate(X_test, Y_test, verbose = 1)\n",
    "    print(\"Loss: {0},\\nTesting Accuracy: {1}\".format(loss, accuracy))\n",
    "    \n",
    "    #Returning predicted set, test set and accuracy for further evaluation\n",
    "    Y_pred=rnn_model.predict(X_test)\n",
    "    return Y_pred,Y_test,accuracy"
   ]
  },
  {
   "cell_type": "markdown",
   "metadata": {},
   "source": [
    "### 3 Fold Cross Validation of 70:10:20 split of data"
   ]
  },
  {
   "cell_type": "code",
   "execution_count": 22,
   "metadata": {},
   "outputs": [
    {
     "name": "stdout",
     "output_type": "stream",
     "text": [
      "******************************************************************************************\n",
      "                        Cross Validation of 1 iteration is : \n",
      "******************************************************************************************\n",
      "Training - Validation(development) - Test set details :\n",
      "Training Set\n",
      "Input Shape is : (2817, 100)\n",
      "Output Shape is : (2817, 100, 47)\n",
      "**********************************************************************\n",
      "Validation(Development) Set\n",
      "Input Shape is : (314, 100)\n",
      "Output Shape is : (314, 100, 47)\n",
      "**********************************************************************\n",
      "Testing Set\n",
      "Input Shape is : (783, 100)\n",
      "Output Shape is : (783, 100, 47)\n",
      "Model: \"sequential\"\n",
      "_________________________________________________________________\n",
      "Layer (type)                 Output Shape              Param #   \n",
      "=================================================================\n",
      "embedding (Embedding)        (None, 100, 300)          3416400   \n",
      "_________________________________________________________________\n",
      "simple_rnn (SimpleRNN)       (None, 100, 128)          54912     \n",
      "_________________________________________________________________\n",
      "dropout (Dropout)            (None, 100, 128)          0         \n",
      "_________________________________________________________________\n",
      "time_distributed (TimeDistri (None, 100, 47)           6063      \n",
      "=================================================================\n",
      "Total params: 3,477,375\n",
      "Trainable params: 3,477,375\n",
      "Non-trainable params: 0\n",
      "_________________________________________________________________\n",
      "Epoch 1/15\n",
      "45/45 [==============================] - 9s 176ms/step - loss: 2.0963 - acc: 0.7072 - val_loss: 0.7629 - val_acc: 0.8170\n",
      "Epoch 2/15\n",
      "45/45 [==============================] - 7s 156ms/step - loss: 0.6655 - acc: 0.8431 - val_loss: 0.4433 - val_acc: 0.9103\n",
      "Epoch 3/15\n",
      "45/45 [==============================] - 7s 157ms/step - loss: 0.3591 - acc: 0.9280 - val_loss: 0.2354 - val_acc: 0.9544\n",
      "Epoch 4/15\n",
      "45/45 [==============================] - 7s 157ms/step - loss: 0.1918 - acc: 0.9642 - val_loss: 0.1474 - val_acc: 0.9691\n",
      "Epoch 5/15\n",
      "45/45 [==============================] - 7s 157ms/step - loss: 0.1134 - acc: 0.9789 - val_loss: 0.1093 - val_acc: 0.9742\n",
      "Epoch 6/15\n",
      "45/45 [==============================] - 7s 163ms/step - loss: 0.0757 - acc: 0.9856 - val_loss: 0.0898 - val_acc: 0.9774\n",
      "Epoch 7/15\n",
      "45/45 [==============================] - 7s 153ms/step - loss: 0.0566 - acc: 0.9886 - val_loss: 0.0792 - val_acc: 0.9793\n",
      "Epoch 8/15\n",
      "45/45 [==============================] - 7s 159ms/step - loss: 0.0439 - acc: 0.9905 - val_loss: 0.0733 - val_acc: 0.9800\n",
      "Epoch 9/15\n",
      "45/45 [==============================] - 7s 156ms/step - loss: 0.0345 - acc: 0.9922 - val_loss: 0.0698 - val_acc: 0.9803\n",
      "Epoch 10/15\n",
      "45/45 [==============================] - 7s 165ms/step - loss: 0.0293 - acc: 0.9932 - val_loss: 0.0670 - val_acc: 0.9807\n",
      "Epoch 11/15\n",
      "45/45 [==============================] - 7s 161ms/step - loss: 0.0253 - acc: 0.9940 - val_loss: 0.0657 - val_acc: 0.9809\n",
      "Epoch 12/15\n",
      "45/45 [==============================] - 7s 164ms/step - loss: 0.0220 - acc: 0.9947 - val_loss: 0.0647 - val_acc: 0.9810\n",
      "Epoch 13/15\n",
      "45/45 [==============================] - 7s 166ms/step - loss: 0.0192 - acc: 0.9955 - val_loss: 0.0644 - val_acc: 0.9809\n",
      "Epoch 14/15\n",
      "45/45 [==============================] - 7s 162ms/step - loss: 0.0183 - acc: 0.9953 - val_loss: 0.0642 - val_acc: 0.9812\n",
      "Epoch 15/15\n",
      "45/45 [==============================] - 7s 153ms/step - loss: 0.0164 - acc: 0.9960 - val_loss: 0.0641 - val_acc: 0.9809\n",
      "89/89 [==============================] - 2s 17ms/step - loss: 0.0126 - acc: 0.9971\n",
      "Loss: 0.012621824629604816,\n",
      "Training Accuracy: 0.9970926642417908\n",
      "                                                            \n",
      "25/25 [==============================] - 0s 18ms/step - loss: 0.0685 - acc: 0.9812\n",
      "Loss: 0.06851736456155777,\n",
      "Testing Accuracy: 0.9812005162239075\n",
      "******************************************************************************************\n",
      "                        Cross Validation of 2 iteration is : \n",
      "******************************************************************************************\n",
      "Training - Validation(development) - Test set details :\n",
      "Training Set\n",
      "Input Shape is : (2817, 100)\n",
      "Output Shape is : (2817, 100, 47)\n",
      "**********************************************************************\n",
      "Validation(Development) Set\n",
      "Input Shape is : (314, 100)\n",
      "Output Shape is : (314, 100, 47)\n",
      "**********************************************************************\n",
      "Testing Set\n",
      "Input Shape is : (783, 100)\n",
      "Output Shape is : (783, 100, 47)\n",
      "Model: \"sequential_1\"\n",
      "_________________________________________________________________\n",
      "Layer (type)                 Output Shape              Param #   \n",
      "=================================================================\n",
      "embedding_1 (Embedding)      (None, 100, 300)          3416400   \n",
      "_________________________________________________________________\n",
      "simple_rnn_1 (SimpleRNN)     (None, 100, 128)          54912     \n",
      "_________________________________________________________________\n",
      "dropout_1 (Dropout)          (None, 100, 128)          0         \n",
      "_________________________________________________________________\n",
      "time_distributed_1 (TimeDist (None, 100, 47)           6063      \n",
      "=================================================================\n",
      "Total params: 3,477,375\n",
      "Trainable params: 3,477,375\n",
      "Non-trainable params: 0\n",
      "_________________________________________________________________\n",
      "Epoch 1/15\n",
      "45/45 [==============================] - 8s 158ms/step - loss: 2.1058 - acc: 0.7046 - val_loss: 0.7320 - val_acc: 0.8327\n",
      "Epoch 2/15\n",
      "45/45 [==============================] - 7s 153ms/step - loss: 0.6748 - acc: 0.8488 - val_loss: 0.4358 - val_acc: 0.9142\n",
      "Epoch 3/15\n",
      "45/45 [==============================] - 7s 161ms/step - loss: 0.4037 - acc: 0.9190 - val_loss: 0.2492 - val_acc: 0.9531\n",
      "Epoch 4/15\n",
      "45/45 [==============================] - 7s 160ms/step - loss: 0.2236 - acc: 0.9595 - val_loss: 0.1553 - val_acc: 0.9690\n",
      "Epoch 5/15\n",
      "45/45 [==============================] - 7s 160ms/step - loss: 0.1302 - acc: 0.9764 - val_loss: 0.1123 - val_acc: 0.9755\n",
      "Epoch 6/15\n",
      "45/45 [==============================] - 7s 164ms/step - loss: 0.0866 - acc: 0.9839 - val_loss: 0.0911 - val_acc: 0.9782\n",
      "Epoch 7/15\n",
      "45/45 [==============================] - 7s 161ms/step - loss: 0.0635 - acc: 0.9875 - val_loss: 0.0795 - val_acc: 0.9798\n",
      "Epoch 8/15\n",
      "45/45 [==============================] - 7s 152ms/step - loss: 0.0479 - acc: 0.9903 - val_loss: 0.0728 - val_acc: 0.9802\n",
      "Epoch 9/15\n",
      "45/45 [==============================] - 7s 156ms/step - loss: 0.0388 - acc: 0.9918 - val_loss: 0.0685 - val_acc: 0.9806\n",
      "Epoch 10/15\n",
      "45/45 [==============================] - 7s 151ms/step - loss: 0.0330 - acc: 0.9925 - val_loss: 0.0657 - val_acc: 0.9813\n",
      "Epoch 11/15\n",
      "45/45 [==============================] - 7s 154ms/step - loss: 0.0274 - acc: 0.9935 - val_loss: 0.0638 - val_acc: 0.9815\n",
      "Epoch 12/15\n",
      "45/45 [==============================] - 7s 159ms/step - loss: 0.0256 - acc: 0.9939 - val_loss: 0.0627 - val_acc: 0.9816\n",
      "Epoch 13/15\n",
      "45/45 [==============================] - 7s 149ms/step - loss: 0.0218 - acc: 0.9949 - val_loss: 0.0618 - val_acc: 0.9818\n",
      "Epoch 14/15\n",
      "45/45 [==============================] - 7s 153ms/step - loss: 0.0194 - acc: 0.9953 - val_loss: 0.0610 - val_acc: 0.9824\n",
      "Epoch 15/15\n",
      "45/45 [==============================] - 7s 150ms/step - loss: 0.0181 - acc: 0.9956 - val_loss: 0.0609 - val_acc: 0.9819\n",
      "89/89 [==============================] - 1s 16ms/step - loss: 0.0142 - acc: 0.9966\n",
      "Loss: 0.014185618609189987,\n",
      "Training Accuracy: 0.996574342250824\n",
      "                                                            \n",
      "25/25 [==============================] - 0s 16ms/step - loss: 0.0632 - acc: 0.9821\n",
      "Loss: 0.06316061317920685,\n",
      "Testing Accuracy: 0.9820689558982849\n",
      "******************************************************************************************\n",
      "                        Cross Validation of 3 iteration is : \n",
      "******************************************************************************************\n",
      "Training - Validation(development) - Test set details :\n",
      "Training Set\n",
      "Input Shape is : (2817, 100)\n",
      "Output Shape is : (2817, 100, 47)\n",
      "**********************************************************************\n",
      "Validation(Development) Set\n",
      "Input Shape is : (314, 100)\n",
      "Output Shape is : (314, 100, 47)\n",
      "**********************************************************************\n",
      "Testing Set\n",
      "Input Shape is : (783, 100)\n",
      "Output Shape is : (783, 100, 47)\n",
      "Model: \"sequential_2\"\n",
      "_________________________________________________________________\n",
      "Layer (type)                 Output Shape              Param #   \n",
      "=================================================================\n",
      "embedding_2 (Embedding)      (None, 100, 300)          3416400   \n",
      "_________________________________________________________________\n",
      "simple_rnn_2 (SimpleRNN)     (None, 100, 128)          54912     \n",
      "_________________________________________________________________\n",
      "dropout_2 (Dropout)          (None, 100, 128)          0         \n",
      "_________________________________________________________________\n",
      "time_distributed_2 (TimeDist (None, 100, 47)           6063      \n",
      "=================================================================\n",
      "Total params: 3,477,375\n",
      "Trainable params: 3,477,375\n",
      "Non-trainable params: 0\n",
      "_________________________________________________________________\n",
      "Epoch 1/15\n"
     ]
    },
    {
     "name": "stdout",
     "output_type": "stream",
     "text": [
      "45/45 [==============================] - 8s 150ms/step - loss: 2.1378 - acc: 0.7053 - val_loss: 0.7645 - val_acc: 0.8264\n",
      "Epoch 2/15\n",
      "45/45 [==============================] - 7s 165ms/step - loss: 0.6794 - acc: 0.8466 - val_loss: 0.4470 - val_acc: 0.9115\n",
      "Epoch 3/15\n",
      "45/45 [==============================] - 7s 162ms/step - loss: 0.3828 - acc: 0.9235 - val_loss: 0.2429 - val_acc: 0.9556\n",
      "Epoch 4/15\n",
      "45/45 [==============================] - 7s 153ms/step - loss: 0.2022 - acc: 0.9639 - val_loss: 0.1530 - val_acc: 0.9693\n",
      "Epoch 5/15\n",
      "45/45 [==============================] - 7s 162ms/step - loss: 0.1228 - acc: 0.9774 - val_loss: 0.1126 - val_acc: 0.9750\n",
      "Epoch 6/15\n",
      "45/45 [==============================] - 7s 156ms/step - loss: 0.0816 - acc: 0.9852 - val_loss: 0.0921 - val_acc: 0.9777\n",
      "Epoch 7/15\n",
      "45/45 [==============================] - 8s 167ms/step - loss: 0.0580 - acc: 0.9886 - val_loss: 0.0805 - val_acc: 0.9793\n",
      "Epoch 8/15\n",
      "45/45 [==============================] - 7s 153ms/step - loss: 0.0445 - acc: 0.9909 - val_loss: 0.0742 - val_acc: 0.9796\n",
      "Epoch 9/15\n",
      "45/45 [==============================] - 7s 151ms/step - loss: 0.0362 - acc: 0.9921 - val_loss: 0.0703 - val_acc: 0.9806\n",
      "Epoch 10/15\n",
      "45/45 [==============================] - 7s 159ms/step - loss: 0.0307 - acc: 0.9931 - val_loss: 0.0675 - val_acc: 0.9805\n",
      "Epoch 11/15\n",
      "45/45 [==============================] - 7s 152ms/step - loss: 0.0266 - acc: 0.9937 - val_loss: 0.0661 - val_acc: 0.9811\n",
      "Epoch 12/15\n",
      "45/45 [==============================] - 7s 155ms/step - loss: 0.0229 - acc: 0.9945 - val_loss: 0.0648 - val_acc: 0.9815\n",
      "Epoch 13/15\n",
      "45/45 [==============================] - 7s 162ms/step - loss: 0.0208 - acc: 0.9952 - val_loss: 0.0645 - val_acc: 0.9814\n",
      "Epoch 14/15\n",
      "45/45 [==============================] - 7s 153ms/step - loss: 0.0175 - acc: 0.9959 - val_loss: 0.0639 - val_acc: 0.9813\n",
      "Epoch 15/15\n",
      "45/45 [==============================] - 7s 152ms/step - loss: 0.0165 - acc: 0.9960 - val_loss: 0.0638 - val_acc: 0.9816\n",
      "89/89 [==============================] - 1s 16ms/step - loss: 0.0131 - acc: 0.9971\n",
      "Loss: 0.013095468282699585,\n",
      "Training Accuracy: 0.9970571398735046\n",
      "                                                            \n",
      "25/25 [==============================] - 0s 17ms/step - loss: 0.0620 - acc: 0.9825\n",
      "Loss: 0.0619850791990757,\n",
      "Testing Accuracy: 0.9825031757354736\n"
     ]
    }
   ],
   "source": [
    "from sklearn.model_selection import ShuffleSplit\n",
    "#Shuffling and splitting into 3 different sets for cross validation\n",
    "cv = ShuffleSplit(n_splits=3, test_size=.20, random_state=0)\n",
    "cv_scores=[0]*3\n",
    "itr=0\n",
    "#Initializing\n",
    "best_pred_set=None\n",
    "best_test_set=None\n",
    "best_accuracy=0 \n",
    "#For each split creating and evaluating model\n",
    "for train_idx,test_idx in cv.split(X):\n",
    "    itr+=1\n",
    "    print(\"*\"*90)\n",
    "    print(\"                        Cross Validation of {} iteration is : \".format(itr))\n",
    "    print(\"*\"*90)\n",
    "    Pred_Set,Test_Set,cv_scores[itr-1]=evaluate_model(X[train_idx],Y[train_idx],X[test_idx],Y[test_idx])\n",
    "    if cv_scores[itr-1]>best_accuracy:\n",
    "        best_accuracy=cv_scores[itr-1]\n",
    "        best_test_set=Test_Set\n",
    "        best_pred_set=Pred_Set"
   ]
  },
  {
   "cell_type": "markdown",
   "metadata": {},
   "source": [
    "### Analysis of the best model among the 3 folds"
   ]
  },
  {
   "cell_type": "code",
   "execution_count": 23,
   "metadata": {},
   "outputs": [
    {
     "name": "stdout",
     "output_type": "stream",
     "text": [
      "Overall Testing Accuracy is : 0.9819242159525553\n"
     ]
    }
   ],
   "source": [
    "print(\"Overall Testing Accuracy is : {}\".format(sum(cv_scores)/len(cv_scores)))"
   ]
  },
  {
   "cell_type": "code",
   "execution_count": 24,
   "metadata": {},
   "outputs": [
    {
     "name": "stdout",
     "output_type": "stream",
     "text": [
      "Best Testing Accuracy among all the folds is : 0.9825031757354736\n"
     ]
    }
   ],
   "source": [
    "print(\"Best Testing Accuracy among all the folds is : {}\".format(best_accuracy))"
   ]
  },
  {
   "cell_type": "code",
   "execution_count": 25,
   "metadata": {},
   "outputs": [
    {
     "name": "stdout",
     "output_type": "stream",
     "text": [
      "Accuracies for 3 folds are :\n",
      "0.9812005162239075 0.9820689558982849 0.9825031757354736\n"
     ]
    }
   ],
   "source": [
    "print(\"Accuracies for 3 folds are :\")\n",
    "print(*cv_scores)"
   ]
  },
  {
   "cell_type": "code",
   "execution_count": 26,
   "metadata": {},
   "outputs": [
    {
     "name": "stdout",
     "output_type": "stream",
     "text": [
      "Values of the best prediction set are :\n"
     ]
    },
    {
     "data": {
      "text/plain": [
       "array([[9.91846919e-01, 1.74480563e-04, 1.02738457e-04, ...,\n",
       "        1.10637746e-04, 2.47459568e-04, 2.30685415e-04],\n",
       "       [9.99713361e-01, 7.71289433e-06, 6.38070333e-06, ...,\n",
       "        2.92807385e-06, 9.04311491e-06, 8.31369289e-06],\n",
       "       [9.99865174e-01, 2.84575185e-06, 2.46485365e-06, ...,\n",
       "        9.43748773e-07, 3.52823236e-06, 3.73541570e-06],\n",
       "       ...,\n",
       "       [3.57720093e-03, 6.39729500e-01, 4.68909042e-03, ...,\n",
       "        7.03340105e-04, 1.74069707e-03, 1.57341466e-03],\n",
       "       [1.71360356e-04, 8.08609184e-04, 4.32083561e-06, ...,\n",
       "        9.12347787e-06, 3.79405128e-06, 3.40950828e-05],\n",
       "       [3.48258007e-04, 9.57011466e-08, 7.22553086e-05, ...,\n",
       "        2.97503393e-05, 1.83110769e-05, 1.67617036e-05]], dtype=float32)"
      ]
     },
     "execution_count": 26,
     "metadata": {},
     "output_type": "execute_result"
    }
   ],
   "source": [
    "print(\"Values of the best prediction set are :\")\n",
    "best_pred_set[0]"
   ]
  },
  {
   "cell_type": "code",
   "execution_count": 27,
   "metadata": {},
   "outputs": [
    {
     "name": "stdout",
     "output_type": "stream",
     "text": [
      "Values of the best testing set are :\n"
     ]
    },
    {
     "data": {
      "text/plain": [
       "array([[1., 0., 0., ..., 0., 0., 0.],\n",
       "       [1., 0., 0., ..., 0., 0., 0.],\n",
       "       [1., 0., 0., ..., 0., 0., 0.],\n",
       "       ...,\n",
       "       [0., 0., 0., ..., 0., 0., 0.],\n",
       "       [0., 0., 0., ..., 0., 0., 0.],\n",
       "       [0., 0., 0., ..., 0., 0., 0.]])"
      ]
     },
     "execution_count": 27,
     "metadata": {},
     "output_type": "execute_result"
    }
   ],
   "source": [
    "print(\"Values of the best testing set are :\")\n",
    "best_test_set[0]"
   ]
  },
  {
   "cell_type": "markdown",
   "metadata": {},
   "source": [
    "### Decoding the predicted tags in the best_pred_set"
   ]
  },
  {
   "cell_type": "code",
   "execution_count": 28,
   "metadata": {},
   "outputs": [],
   "source": [
    "#Defining an empty matrix of zeros of shape of best_pred_set\n",
    "out = np.zeros(best_pred_set.shape)\n",
    "#Finding the tag index for each sequence which has the highest probablity value \n",
    "idx = best_pred_set.argmax(axis=-1)\n",
    "#Setting that value to 1 and rest to 0\n",
    "out[np.arange(best_pred_set.shape[0])[:,None],np.arange(best_pred_set.shape[1]),idx] = 1"
   ]
  },
  {
   "cell_type": "code",
   "execution_count": 29,
   "metadata": {},
   "outputs": [
    {
     "data": {
      "text/plain": [
       "array([ 0,  0,  0,  0,  0,  0,  0,  0,  0,  0,  0,  0,  0,  0,  0,  0,  0,\n",
       "        0,  0,  0,  0,  0,  0,  0,  0,  0,  0,  0,  0,  0,  0,  0,  0,  0,\n",
       "        0,  0,  0,  0,  0,  0,  0,  0,  0,  0,  0,  0,  0,  0,  0,  0,  0,\n",
       "        0,  0,  0,  0,  0,  0,  0,  0,  0,  0,  0,  0,  0,  0,  0,  0,  0,\n",
       "        0,  0,  2, 10,  2,  4, 39,  7,  6,  2,  1,  8,  7,  1,  1,  2,  4,\n",
       "        3,  3, 11, 15,  4,  7,  1,  2, 24, 10, 10,  5,  7,  1,  9],\n",
       "      dtype=int64)"
      ]
     },
     "execution_count": 29,
     "metadata": {},
     "output_type": "execute_result"
    }
   ],
   "source": [
    "#Finding the index havnig the max value among the 46 tag values for a certain sequence\n",
    "best_pred=np.argmax(out, axis=2)\n",
    "best_test=np.argmax(best_test_set,axis=2)\n",
    "#Actual Tags(Encoded) for the 2nd sequence in Test Set\n",
    "best_test[2]"
   ]
  },
  {
   "cell_type": "code",
   "execution_count": 30,
   "metadata": {},
   "outputs": [
    {
     "data": {
      "text/plain": [
       "array([ 0,  0,  0,  0,  0,  0,  0,  0,  0,  0,  0,  0,  0,  0,  0,  0,  0,\n",
       "        0,  0,  0,  0,  0,  0,  0,  0,  0,  0,  0,  0,  0,  0,  0,  0,  0,\n",
       "        0,  0,  0,  0,  0,  0,  0,  0,  0,  0,  0,  0,  0,  0,  0,  0,  0,\n",
       "        0,  0,  0,  0,  0,  0,  0,  0,  0,  0,  0,  0,  0,  0,  0,  0,  0,\n",
       "        0,  0,  2, 10,  2,  4, 33, 19,  6,  2,  1,  8,  7,  1,  1,  2,  4,\n",
       "        1,  1, 11, 15,  4,  7,  7,  2, 24, 10, 10,  5,  7,  1,  9],\n",
       "      dtype=int64)"
      ]
     },
     "execution_count": 30,
     "metadata": {},
     "output_type": "execute_result"
    }
   ],
   "source": [
    "#Predicted Tags(Encoded) for the 2nd sequence in Test Set\n",
    "best_pred[2]"
   ]
  },
  {
   "cell_type": "markdown",
   "metadata": {},
   "source": [
    "### Class-wise accuracy for the different tags"
   ]
  },
  {
   "cell_type": "code",
   "execution_count": 31,
   "metadata": {},
   "outputs": [],
   "source": [
    "true_positive=[0]*(NUM_TAGS+1)\n",
    "actual_count=[0]*(NUM_TAGS+1)\n",
    "for i in range(best_test.shape[0]):\n",
    "    for j in range(best_test.shape[1]):\n",
    "        if best_test[i][j]==0: #Ignore if its 0 as it is present due to padding\n",
    "            continue\n",
    "        #if both are equal then increment count by 1 for true positive case\n",
    "        if best_test[i][j]==best_pred[i][j]:\n",
    "            true_positive[best_test[i][j]]+=1\n",
    "        actual_count[best_test[i][j]]+=1"
   ]
  },
  {
   "cell_type": "code",
   "execution_count": 32,
   "metadata": {},
   "outputs": [
    {
     "name": "stdout",
     "output_type": "stream",
     "text": [
      "******************************************************************************************\n",
      "              class-wise accuracies of the different classes \n",
      "******************************************************************************************\n",
      "Accuracy of tag - class 1 is 92.61693080788558 %\n",
      "Accuracy of tag - class 2 is 98.15762538382803 %\n",
      "Accuracy of tag - class 3 is 86.83368869936035 %\n",
      "Accuracy of tag - class 4 is 99.45021380574221 %\n",
      "Accuracy of tag - class 5 is 97.72554965883245 %\n",
      "Accuracy of tag - class 6 is 91.61624891961971 %\n",
      "Accuracy of tag - class 7 is 81.35593220338984 %\n",
      "Accuracy of tag - class 8 is 100.0 %\n",
      "Accuracy of tag - class 9 is 100.0 %\n",
      "Accuracy of tag - class 10 is 92.45014245014245 %\n",
      "Accuracy of tag - class 11 is 90.06309148264984 %\n",
      "Accuracy of tag - class 12 is 83.1918505942275 %\n",
      "Accuracy of tag - class 13 is 93.86973180076629 %\n",
      "Accuracy of tag - class 14 is 99.52718676122932 %\n",
      "Accuracy of tag - class 15 is 100.0 %\n",
      "Accuracy of tag - class 16 is 86.41975308641975 %\n",
      "Accuracy of tag - class 17 is 91.92399049881234 %\n",
      "Accuracy of tag - class 18 is 99.70674486803519 %\n",
      "Accuracy of tag - class 19 is 87.29641693811075 %\n",
      "Accuracy of tag - class 20 is 86.4 %\n",
      "Accuracy of tag - class 21 is 99.43181818181817 %\n",
      "Accuracy of tag - class 22 is 100.0 %\n",
      "Accuracy of tag - class 23 is 100.0 %\n",
      "Accuracy of tag - class 24 is 100.0 %\n",
      "Accuracy of tag - class 25 is 100.0 %\n",
      "Accuracy of tag - class 26 is 98.125 %\n",
      "Accuracy of tag - class 27 is 100.0 %\n",
      "Accuracy of tag - class 28 is 71.26436781609196 %\n",
      "Accuracy of tag - class 29 is 79.1044776119403 %\n",
      "Accuracy of tag - class 30 is 35.714285714285715 %\n",
      "Accuracy of tag - class 31 is 100.0 %\n",
      "Accuracy of tag - class 32 is 58.69565217391305 %\n",
      "Accuracy of tag - class 33 is 92.85714285714286 %\n",
      "Accuracy of tag - class 34 is 100.0 %\n",
      "Accuracy of tag - class 35 is 29.411764705882355 %\n",
      "Accuracy of tag - class 36 is 100.0 %\n",
      "Accuracy of tag - class 37 is 100.0 %\n",
      "Accuracy of tag - class 38 is 100.0 %\n",
      "Accuracy of tag - class 39 is 0.0 %\n",
      "Accuracy of tag - class 40 is 0.0 %\n",
      "Accuracy of tag - class 41 is 100.0 %\n",
      "Accuracy of tag - class 42 is 100.0 %\n",
      "Accuracy of tag - class 43 is 0.0 %\n",
      "Accuracy of tag - class 44 is 0.0 %\n",
      "Accuracy of tag - class 45 is 0.0 %\n",
      "Accuracy of tag - class 46 is : NA \n"
     ]
    }
   ],
   "source": [
    "print(\"*\"*90)\n",
    "print(\"              class-wise accuracies of the different classes \")\n",
    "print(\"*\"*90)\n",
    "class_accuracies=[]\n",
    "for i in range(1,NUM_TAGS+1):\n",
    "    if actual_count[i]!=0:\n",
    "        class_accuracies.append((true_positive[i]/actual_count[i])*100)\n",
    "        print(\"Accuracy of tag - class {} is {} %\".format(i,(class_accuracies[i-1])))\n",
    "    else:\n",
    "        class_accuracies.append(0)\n",
    "        print(\"Accuracy of tag - class {} is : NA \".format(i))"
   ]
  },
  {
   "cell_type": "code",
   "execution_count": 33,
   "metadata": {},
   "outputs": [
    {
     "data": {
      "image/png": "[encoded data removed]",
      "text/plain": [
       "<Figure size 1080x576 with 1 Axes>"
      ]
     },
     "metadata": {
      "needs_background": "light"
     },
     "output_type": "display_data"
    }
   ],
   "source": [
    "fig = plt.figure(figsize = (15, 8)) \n",
    "# creating the bar plot \n",
    "category_list=[str(i) for i in range(1,NUM_TAGS+1)]\n",
    "plt.bar(category_list, class_accuracies, color ='blue',width = 0.5) \n",
    "  \n",
    "plt.xlabel(\"tag - classes\") \n",
    "plt.ylabel(\"Accuracy in Percentage(%)\") \n",
    "plt.title(\"Accuracy of different tag - classes\") \n",
    "plt.show() "
   ]
  },
  {
   "cell_type": "code",
   "execution_count": null,
   "metadata": {},
   "outputs": [],
   "source": []
  }
 ],
 "metadata": {
  "kernelspec": {
   "display_name": "Python 3",
   "language": "python",
   "name": "python3"
  },
  "language_info": {
   "codemirror_mode": {
    "name": "ipython",
    "version": 3
   },
   "file_extension": ".py",
   "mimetype": "text/x-python",
   "name": "python",
   "nbconvert_exporter": "python",
   "pygments_lexer": "ipython3",
   "version": "3.6.10"
  }
 },
 "nbformat": 4,
 "nbformat_minor": 4
}
